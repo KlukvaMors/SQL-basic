{
 "cells": [
  {
   "cell_type": "markdown",
   "id": "80f077d7",
   "metadata": {},
   "source": [
    "<pre>\n",
    "      _                 _              _____ \n",
    "     | |               | |            / __  \\\n",
    "  ___| |__   __ _ _ __ | |_ ___ _ __  `' / /'\n",
    " / __| '_ \\ / _` | '_ \\| __/ _ \\ '__|   / /  \n",
    "| (__| | | | (_| | |_) | ||  __/ |    ./ /___\n",
    " \\___|_| |_|\\__,_| .__/ \\__\\___|_|    \\_____/\n",
    "                 | |                         \n",
    "                 |_|                         \n",
    "</pre>"
   ]
  },
  {
   "cell_type": "markdown",
   "id": "f0f9d692",
   "metadata": {},
   "source": [
    "## Глава 2\n",
    "\n",
    "- [2 Запросы SQL к связанным таблицам](#2-Запросы-SQL-к-связанным-таблицам)\n",
    "    - [2.1 Связи между таблицами](#2.1-Связи-между-таблицами)\n",
    "    - [2.2 Запросы на выборку, соединение таблиц](#2.2-Запросы-на-выборку,-соединение-таблиц)\n",
    "    - [2.3 Запросы корректировки, соединение таблиц](#2.3-Запросы-корректировки,-соединение-таблиц)\n",
    "    - [](#)\n",
    "    - [](#)\n",
    "    - [](#)\n"
   ]
  },
  {
   "cell_type": "markdown",
   "id": "d57c7fa0",
   "metadata": {},
   "source": [
    "\n",
    "#  2 Запросы SQL к связанным таблицам\n",
    "[`⌂`](#Глава-2)\n"
   ]
  },
  {
   "cell_type": "markdown",
   "id": "bce1cdb7",
   "metadata": {},
   "source": [
    "<hr>\n",
    "\n",
    "## 2.1 Связи между таблицами\n",
    "\n",
    "[`⌂`](#Глава-2)"
   ]
  },
  {
   "cell_type": "markdown",
   "id": "c9396a95",
   "metadata": {},
   "source": [
    "<hr>\n",
    "\n",
    "### Связь «один ко многим»\n",
    "\n",
    "[`⌂`](#Глава-2)"
   ]
  },
  {
   "cell_type": "markdown",
   "id": "333dc158",
   "metadata": {},
   "source": []
  },
  {
   "cell_type": "markdown",
   "id": "8446141c",
   "metadata": {},
   "source": [
    "<hr>\n",
    "\n",
    "### Связь «многие ко многим»\n",
    "\n",
    "[`⌂`](#Глава-2)"
   ]
  },
  {
   "cell_type": "markdown",
   "id": "1e48bf37",
   "metadata": {},
   "source": []
  },
  {
   "cell_type": "markdown",
   "id": "6ba20a94",
   "metadata": {},
   "source": []
  },
  {
   "cell_type": "markdown",
   "id": "dc71c217",
   "metadata": {},
   "source": []
  },
  {
   "cell_type": "markdown",
   "id": "702f6efc",
   "metadata": {},
   "source": [
    "<hr>\n",
    "\n",
    "## 2.2 Запросы на выборку, соединение таблиц\n",
    "\n",
    "[`⌂`](#Глава-2)"
   ]
  },
  {
   "cell_type": "code",
   "execution_count": null,
   "id": "0f3e27f7",
   "metadata": {},
   "outputs": [],
   "source": []
  },
  {
   "cell_type": "markdown",
   "id": "d8d0a248",
   "metadata": {},
   "source": [
    "<hr>\n",
    "\n",
    "## 2.3 Запросы корректировки, соединение таблиц\n",
    "\n",
    "[`⌂`](#Глава-2)"
   ]
  },
  {
   "cell_type": "code",
   "execution_count": null,
   "id": "d154dc24",
   "metadata": {},
   "outputs": [],
   "source": []
  },
  {
   "cell_type": "markdown",
   "id": "026f2d79",
   "metadata": {},
   "source": [
    "<hr>\n",
    "\n",
    "## Выборка данных по условию\n",
    "\n",
    "[`⌂`](#Глава-2)"
   ]
  }
 ],
 "metadata": {
  "kernelspec": {
   "display_name": "Python 3",
   "language": "python",
   "name": "python3"
  },
  "language_info": {
   "codemirror_mode": {
    "name": "ipython",
    "version": 3
   },
   "file_extension": ".py",
   "mimetype": "text/x-python",
   "name": "python",
   "nbconvert_exporter": "python",
   "pygments_lexer": "ipython3",
   "version": "3.8.8"
  }
 },
 "nbformat": 4,
 "nbformat_minor": 5
}
